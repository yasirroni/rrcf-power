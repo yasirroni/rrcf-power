{
 "cells": [
  {
   "cell_type": "markdown",
   "metadata": {},
   "source": [
    "### Example"
   ]
  },
  {
   "cell_type": "markdown",
   "metadata": {},
   "source": [
    "# RRCF-Power"
   ]
  },
  {
   "cell_type": "markdown",
   "metadata": {},
   "source": [
    "## Import and Reshape Data"
   ]
  },
  {
   "cell_type": "code",
   "execution_count": 1,
   "metadata": {},
   "outputs": [
    {
     "data": {
      "text/html": [
       "<div>\n",
       "<style scoped>\n",
       "    .dataframe tbody tr th:only-of-type {\n",
       "        vertical-align: middle;\n",
       "    }\n",
       "\n",
       "    .dataframe tbody tr th {\n",
       "        vertical-align: top;\n",
       "    }\n",
       "\n",
       "    .dataframe thead th {\n",
       "        text-align: right;\n",
       "    }\n",
       "</style>\n",
       "<table border=\"1\" class=\"dataframe\">\n",
       "  <thead>\n",
       "    <tr style=\"text-align: right;\">\n",
       "      <th></th>\n",
       "      <th>Unnamed: 0</th>\n",
       "      <th>date</th>\n",
       "      <th>category</th>\n",
       "      <th>value</th>\n",
       "    </tr>\n",
       "  </thead>\n",
       "  <tbody>\n",
       "    <tr>\n",
       "      <th>0</th>\n",
       "      <td>1</td>\n",
       "      <td>2019-09-01 12:00:00</td>\n",
       "      <td>A</td>\n",
       "      <td>17</td>\n",
       "    </tr>\n",
       "    <tr>\n",
       "      <th>1</th>\n",
       "      <td>2</td>\n",
       "      <td>2019-09-01 12:00:00</td>\n",
       "      <td>B</td>\n",
       "      <td>6</td>\n",
       "    </tr>\n",
       "    <tr>\n",
       "      <th>2</th>\n",
       "      <td>3</td>\n",
       "      <td>2019-09-01 12:00:00</td>\n",
       "      <td>C</td>\n",
       "      <td>7</td>\n",
       "    </tr>\n",
       "    <tr>\n",
       "      <th>3</th>\n",
       "      <td>4</td>\n",
       "      <td>2019-09-01 13:00:00</td>\n",
       "      <td>A</td>\n",
       "      <td>23</td>\n",
       "    </tr>\n",
       "    <tr>\n",
       "      <th>4</th>\n",
       "      <td>5</td>\n",
       "      <td>2019-09-01 13:00:00</td>\n",
       "      <td>B</td>\n",
       "      <td>1</td>\n",
       "    </tr>\n",
       "  </tbody>\n",
       "</table>\n",
       "</div>"
      ],
      "text/plain": [
       "   Unnamed: 0                 date category  value\n",
       "0           1  2019-09-01 12:00:00        A     17\n",
       "1           2  2019-09-01 12:00:00        B      6\n",
       "2           3  2019-09-01 12:00:00        C      7\n",
       "3           4  2019-09-01 13:00:00        A     23\n",
       "4           5  2019-09-01 13:00:00        B      1"
      ]
     },
     "execution_count": 1,
     "metadata": {},
     "output_type": "execute_result"
    }
   ],
   "source": [
    "import pandas as pd\n",
    "data_source_path = 'rrcf_power/data/sample-1H.csv'\n",
    "df = pd.read_csv(data_source_path)\n",
    "df.head()"
   ]
  },
  {
   "cell_type": "markdown",
   "metadata": {},
   "source": [
    "## Make Date as Index"
   ]
  },
  {
   "cell_type": "code",
   "execution_count": 2,
   "metadata": {},
   "outputs": [
    {
     "data": {
      "text/html": [
       "<div>\n",
       "<style scoped>\n",
       "    .dataframe tbody tr th:only-of-type {\n",
       "        vertical-align: middle;\n",
       "    }\n",
       "\n",
       "    .dataframe tbody tr th {\n",
       "        vertical-align: top;\n",
       "    }\n",
       "\n",
       "    .dataframe thead th {\n",
       "        text-align: right;\n",
       "    }\n",
       "</style>\n",
       "<table border=\"1\" class=\"dataframe\">\n",
       "  <thead>\n",
       "    <tr style=\"text-align: right;\">\n",
       "      <th></th>\n",
       "      <th>Unnamed: 0</th>\n",
       "      <th>category</th>\n",
       "      <th>value</th>\n",
       "    </tr>\n",
       "    <tr>\n",
       "      <th>date</th>\n",
       "      <th></th>\n",
       "      <th></th>\n",
       "      <th></th>\n",
       "    </tr>\n",
       "  </thead>\n",
       "  <tbody>\n",
       "    <tr>\n",
       "      <th>2019-09-01 12:00:00</th>\n",
       "      <td>1</td>\n",
       "      <td>A</td>\n",
       "      <td>17</td>\n",
       "    </tr>\n",
       "    <tr>\n",
       "      <th>2019-09-01 12:00:00</th>\n",
       "      <td>2</td>\n",
       "      <td>B</td>\n",
       "      <td>6</td>\n",
       "    </tr>\n",
       "    <tr>\n",
       "      <th>2019-09-01 12:00:00</th>\n",
       "      <td>3</td>\n",
       "      <td>C</td>\n",
       "      <td>7</td>\n",
       "    </tr>\n",
       "    <tr>\n",
       "      <th>2019-09-01 13:00:00</th>\n",
       "      <td>4</td>\n",
       "      <td>A</td>\n",
       "      <td>23</td>\n",
       "    </tr>\n",
       "    <tr>\n",
       "      <th>2019-09-01 13:00:00</th>\n",
       "      <td>5</td>\n",
       "      <td>B</td>\n",
       "      <td>1</td>\n",
       "    </tr>\n",
       "  </tbody>\n",
       "</table>\n",
       "</div>"
      ],
      "text/plain": [
       "                     Unnamed: 0 category  value\n",
       "date                                           \n",
       "2019-09-01 12:00:00           1        A     17\n",
       "2019-09-01 12:00:00           2        B      6\n",
       "2019-09-01 12:00:00           3        C      7\n",
       "2019-09-01 13:00:00           4        A     23\n",
       "2019-09-01 13:00:00           5        B      1"
      ]
     },
     "execution_count": 2,
     "metadata": {},
     "output_type": "execute_result"
    }
   ],
   "source": [
    "df['date'] = pd.to_datetime(df['date'])\n",
    "df.set_index('date', inplace=True)\n",
    "df.head()"
   ]
  },
  {
   "cell_type": "markdown",
   "metadata": {},
   "source": [
    "## Convert to Timeseries"
   ]
  },
  {
   "cell_type": "code",
   "execution_count": 3,
   "metadata": {},
   "outputs": [
    {
     "data": {
      "text/html": [
       "<div>\n",
       "<style scoped>\n",
       "    .dataframe tbody tr th:only-of-type {\n",
       "        vertical-align: middle;\n",
       "    }\n",
       "\n",
       "    .dataframe tbody tr th {\n",
       "        vertical-align: top;\n",
       "    }\n",
       "\n",
       "    .dataframe thead th {\n",
       "        text-align: right;\n",
       "    }\n",
       "</style>\n",
       "<table border=\"1\" class=\"dataframe\">\n",
       "  <thead>\n",
       "    <tr style=\"text-align: right;\">\n",
       "      <th></th>\n",
       "      <th>A</th>\n",
       "      <th>B</th>\n",
       "      <th>C</th>\n",
       "    </tr>\n",
       "  </thead>\n",
       "  <tbody>\n",
       "    <tr>\n",
       "      <th>2019-09-01 12:00:00</th>\n",
       "      <td>17</td>\n",
       "      <td>6.0</td>\n",
       "      <td>7.0</td>\n",
       "    </tr>\n",
       "    <tr>\n",
       "      <th>2019-09-01 13:00:00</th>\n",
       "      <td>23</td>\n",
       "      <td>1.0</td>\n",
       "      <td>6.0</td>\n",
       "    </tr>\n",
       "    <tr>\n",
       "      <th>2019-09-01 14:00:00</th>\n",
       "      <td>17</td>\n",
       "      <td>4.0</td>\n",
       "      <td>9.0</td>\n",
       "    </tr>\n",
       "    <tr>\n",
       "      <th>2019-09-01 15:00:00</th>\n",
       "      <td>15</td>\n",
       "      <td>5.0</td>\n",
       "      <td>10.0</td>\n",
       "    </tr>\n",
       "    <tr>\n",
       "      <th>2019-09-01 16:00:00</th>\n",
       "      <td>15</td>\n",
       "      <td>6.0</td>\n",
       "      <td>9.0</td>\n",
       "    </tr>\n",
       "  </tbody>\n",
       "</table>\n",
       "</div>"
      ],
      "text/plain": [
       "                      A    B     C\n",
       "2019-09-01 12:00:00  17  6.0   7.0\n",
       "2019-09-01 13:00:00  23  1.0   6.0\n",
       "2019-09-01 14:00:00  17  4.0   9.0\n",
       "2019-09-01 15:00:00  15  5.0  10.0\n",
       "2019-09-01 16:00:00  15  6.0   9.0"
      ]
     },
     "execution_count": 3,
     "metadata": {},
     "output_type": "execute_result"
    }
   ],
   "source": [
    "category = df['category'].unique()\n",
    "df_temp = pd.DataFrame()\n",
    "for val in category:\n",
    "    # fetch data from category\n",
    "    df_temp_temp = df[df['category']==val]['value']\n",
    "    \n",
    "    # drop duplicate date\n",
    "    df_temp[val] = df_temp_temp[~df_temp_temp.index.duplicated(keep='first')]\n",
    "df = df_temp\n",
    "df.head()"
   ]
  },
  {
   "cell_type": "markdown",
   "metadata": {},
   "source": [
    "## Resample to Fill Missing Time"
   ]
  },
  {
   "cell_type": "code",
   "execution_count": 4,
   "metadata": {},
   "outputs": [
    {
     "data": {
      "text/html": [
       "<div>\n",
       "<style scoped>\n",
       "    .dataframe tbody tr th:only-of-type {\n",
       "        vertical-align: middle;\n",
       "    }\n",
       "\n",
       "    .dataframe tbody tr th {\n",
       "        vertical-align: top;\n",
       "    }\n",
       "\n",
       "    .dataframe thead th {\n",
       "        text-align: right;\n",
       "    }\n",
       "</style>\n",
       "<table border=\"1\" class=\"dataframe\">\n",
       "  <thead>\n",
       "    <tr style=\"text-align: right;\">\n",
       "      <th></th>\n",
       "      <th>A</th>\n",
       "      <th>B</th>\n",
       "      <th>C</th>\n",
       "    </tr>\n",
       "  </thead>\n",
       "  <tbody>\n",
       "    <tr>\n",
       "      <th>2019-09-01 12:00:00</th>\n",
       "      <td>17</td>\n",
       "      <td>6.0</td>\n",
       "      <td>7.0</td>\n",
       "    </tr>\n",
       "    <tr>\n",
       "      <th>2019-09-01 13:00:00</th>\n",
       "      <td>23</td>\n",
       "      <td>1.0</td>\n",
       "      <td>6.0</td>\n",
       "    </tr>\n",
       "    <tr>\n",
       "      <th>2019-09-01 14:00:00</th>\n",
       "      <td>17</td>\n",
       "      <td>4.0</td>\n",
       "      <td>9.0</td>\n",
       "    </tr>\n",
       "    <tr>\n",
       "      <th>2019-09-01 15:00:00</th>\n",
       "      <td>15</td>\n",
       "      <td>5.0</td>\n",
       "      <td>10.0</td>\n",
       "    </tr>\n",
       "    <tr>\n",
       "      <th>2019-09-01 16:00:00</th>\n",
       "      <td>15</td>\n",
       "      <td>6.0</td>\n",
       "      <td>9.0</td>\n",
       "    </tr>\n",
       "  </tbody>\n",
       "</table>\n",
       "</div>"
      ],
      "text/plain": [
       "                      A    B     C\n",
       "2019-09-01 12:00:00  17  6.0   7.0\n",
       "2019-09-01 13:00:00  23  1.0   6.0\n",
       "2019-09-01 14:00:00  17  4.0   9.0\n",
       "2019-09-01 15:00:00  15  5.0  10.0\n",
       "2019-09-01 16:00:00  15  6.0   9.0"
      ]
     },
     "execution_count": 4,
     "metadata": {},
     "output_type": "execute_result"
    }
   ],
   "source": [
    "df = df.resample('1h').sum() # .sum() make no value in lookup become 0\n",
    "df.head()"
   ]
  },
  {
   "cell_type": "markdown",
   "metadata": {},
   "source": [
    "## Check for NaN"
   ]
  },
  {
   "cell_type": "code",
   "execution_count": 5,
   "metadata": {},
   "outputs": [
    {
     "name": "stdout",
     "output_type": "stream",
     "text": [
      "NaN in A: False\n",
      "NaN in B: False\n",
      "NaN in C: False\n"
     ]
    }
   ],
   "source": [
    "for col in category:\n",
    "    print(f'NaN in {col}: {df[col].isnull().any()}')"
   ]
  },
  {
   "cell_type": "markdown",
   "metadata": {},
   "source": [
    "## Replace NaN to 0"
   ]
  },
  {
   "cell_type": "code",
   "execution_count": 6,
   "metadata": {},
   "outputs": [],
   "source": [
    "df.fillna(0, inplace=True)"
   ]
  },
  {
   "cell_type": "code",
   "execution_count": 7,
   "metadata": {},
   "outputs": [
    {
     "name": "stdout",
     "output_type": "stream",
     "text": [
      "NaN in A: False\n",
      "NaN in B: False\n",
      "NaN in C: False\n"
     ]
    }
   ],
   "source": [
    "for col in category:\n",
    "    print(f'NaN in {col}: {df[col].isnull().any()}')"
   ]
  },
  {
   "cell_type": "markdown",
   "metadata": {},
   "source": [
    "## Plot"
   ]
  },
  {
   "cell_type": "code",
   "execution_count": 8,
   "metadata": {},
   "outputs": [],
   "source": [
    "import matplotlib.pyplot as plt\n",
    "import math"
   ]
  },
  {
   "cell_type": "code",
   "execution_count": 9,
   "metadata": {
    "scrolled": true
   },
   "outputs": [
    {
     "data": {
      "image/png": "[encoded data removed]",
      "text/plain": [
       "<Figure size 432x288 with 1 Axes>"
      ]
     },
     "metadata": {
      "needs_background": "light"
     },
     "output_type": "display_data"
    }
   ],
   "source": [
    "cm = plt.get_cmap('gist_rainbow')\n",
    "fig = plt.figure()\n",
    "ax = fig.add_subplot(111)\n",
    "ax.set_prop_cycle('color', [cm(1.*i/len(df.columns)) for i in range(len(df.columns))])\n",
    "for col_name in df.columns:\n",
    "    ax.plot(df[col_name])\n",
    "plt.legend(df.columns, ncol=int(math.ceil(len(df.columns)/10)),  bbox_to_anchor=(1, 1))\n",
    "plt.show()"
   ]
  },
  {
   "cell_type": "markdown",
   "metadata": {},
   "source": [
    "## Scaler (Optional, for Data With Very Different Range Value)"
   ]
  },
  {
   "cell_type": "code",
   "execution_count": 10,
   "metadata": {},
   "outputs": [],
   "source": [
    "from sklearn.preprocessing import MinMaxScaler"
   ]
  },
  {
   "cell_type": "code",
   "execution_count": 11,
   "metadata": {},
   "outputs": [
    {
     "data": {
      "text/html": [
       "<div>\n",
       "<style scoped>\n",
       "    .dataframe tbody tr th:only-of-type {\n",
       "        vertical-align: middle;\n",
       "    }\n",
       "\n",
       "    .dataframe tbody tr th {\n",
       "        vertical-align: top;\n",
       "    }\n",
       "\n",
       "    .dataframe thead th {\n",
       "        text-align: right;\n",
       "    }\n",
       "</style>\n",
       "<table border=\"1\" class=\"dataframe\">\n",
       "  <thead>\n",
       "    <tr style=\"text-align: right;\">\n",
       "      <th></th>\n",
       "      <th>A</th>\n",
       "      <th>B</th>\n",
       "      <th>C</th>\n",
       "    </tr>\n",
       "  </thead>\n",
       "  <tbody>\n",
       "    <tr>\n",
       "      <th>2019-09-01 12:00:00</th>\n",
       "      <td>0.421053</td>\n",
       "      <td>0.666667</td>\n",
       "      <td>0.388889</td>\n",
       "    </tr>\n",
       "    <tr>\n",
       "      <th>2019-09-01 13:00:00</th>\n",
       "      <td>0.736842</td>\n",
       "      <td>0.111111</td>\n",
       "      <td>0.333333</td>\n",
       "    </tr>\n",
       "    <tr>\n",
       "      <th>2019-09-01 14:00:00</th>\n",
       "      <td>0.421053</td>\n",
       "      <td>0.444444</td>\n",
       "      <td>0.500000</td>\n",
       "    </tr>\n",
       "    <tr>\n",
       "      <th>2019-09-01 15:00:00</th>\n",
       "      <td>0.315789</td>\n",
       "      <td>0.555556</td>\n",
       "      <td>0.555556</td>\n",
       "    </tr>\n",
       "    <tr>\n",
       "      <th>2019-09-01 16:00:00</th>\n",
       "      <td>0.315789</td>\n",
       "      <td>0.666667</td>\n",
       "      <td>0.500000</td>\n",
       "    </tr>\n",
       "  </tbody>\n",
       "</table>\n",
       "</div>"
      ],
      "text/plain": [
       "                            A         B         C\n",
       "2019-09-01 12:00:00  0.421053  0.666667  0.388889\n",
       "2019-09-01 13:00:00  0.736842  0.111111  0.333333\n",
       "2019-09-01 14:00:00  0.421053  0.444444  0.500000\n",
       "2019-09-01 15:00:00  0.315789  0.555556  0.555556\n",
       "2019-09-01 16:00:00  0.315789  0.666667  0.500000"
      ]
     },
     "execution_count": 11,
     "metadata": {},
     "output_type": "execute_result"
    }
   ],
   "source": [
    "scaler = MinMaxScaler()\n",
    "scaler.fit(df)\n",
    "df[df.columns] = scaler.transform(df) # use inverse_transform to reverse\n",
    "import numpy as np\n",
    "\n",
    "df.head()"
   ]
  },
  {
   "cell_type": "code",
   "execution_count": 12,
   "metadata": {},
   "outputs": [
    {
     "data": {
      "image/png": "[encoded data removed]",
      "text/plain": [
       "<Figure size 432x288 with 1 Axes>"
      ]
     },
     "metadata": {
      "needs_background": "light"
     },
     "output_type": "display_data"
    }
   ],
   "source": [
    "cm = plt.get_cmap('gist_rainbow')\n",
    "fig = plt.figure()\n",
    "ax = fig.add_subplot(111)\n",
    "ax.set_prop_cycle('color', [cm(1.*i/len(df.columns)) for i in range(len(df.columns))])\n",
    "for col_name in df.columns:\n",
    "    ax.plot(df[col_name])\n",
    "plt.legend(df.columns, ncol=int(math.ceil(len(df.columns)/10)),  bbox_to_anchor=(1, 1))\n",
    "plt.show()"
   ]
  },
  {
   "cell_type": "markdown",
   "metadata": {},
   "source": [
    "## RRCF (Initial)"
   ]
  },
  {
   "cell_type": "code",
   "execution_count": 13,
   "metadata": {},
   "outputs": [
    {
     "data": {
      "text/plain": [
       "(1419, 3)"
      ]
     },
     "execution_count": 13,
     "metadata": {},
     "output_type": "execute_result"
    }
   ],
   "source": [
    "import numpy as np\n",
    "X = df.to_numpy()\n",
    "n_points, n_vars = np.shape(X)\n",
    "n_points, n_vars"
   ]
  },
  {
   "cell_type": "code",
   "execution_count": 14,
   "metadata": {},
   "outputs": [
    {
     "data": {
      "text/plain": [
       "False"
      ]
     },
     "execution_count": 14,
     "metadata": {},
     "output_type": "execute_result"
    }
   ],
   "source": [
    "np.isnan(X).any()"
   ]
  },
  {
   "cell_type": "code",
   "execution_count": 15,
   "metadata": {},
   "outputs": [],
   "source": [
    "# Seed for Repeatebility\n",
    "np.random.seed(0)"
   ]
  },
  {
   "cell_type": "markdown",
   "metadata": {},
   "source": [
    "## RRCF Non-Stream"
   ]
  },
  {
   "cell_type": "code",
   "execution_count": 16,
   "metadata": {},
   "outputs": [],
   "source": [
    "import rrcf\n",
    "\n",
    "# Construct forest\n",
    "forest = []\n",
    "\n",
    "# Specify forest parameters\n",
    "num_trees = 100\n",
    "tree_size = int(n_points * 0.125)\n",
    "sample_size_range = (n_points // tree_size, tree_size)\n",
    "\n",
    "while len(forest) < num_trees:\n",
    "    # Select random subsets of points uniformly from point set\n",
    "    ixs = np.random.choice(n_points, size=sample_size_range, replace=False)\n",
    "    \n",
    "    # Add sampled trees to forest\n",
    "    trees = [rrcf.RCTree(X[ix], index_labels=ix) for ix in ixs]\n",
    "    forest.extend(trees)"
   ]
  },
  {
   "cell_type": "code",
   "execution_count": 17,
   "metadata": {},
   "outputs": [],
   "source": [
    "# Compute average CoDisp\n",
    "avg_codisp = pd.Series(0.0, index=np.arange(n_points))\n",
    "index = np.zeros(n_points)\n",
    "for tree in forest:\n",
    "    codisp = pd.Series({leaf : tree.codisp(leaf) for leaf in tree.leaves})\n",
    "    avg_codisp[codisp.index] += codisp\n",
    "    np.add.at(index, codisp.index.values, 1)\n",
    "avg_codisp /= index"
   ]
  },
  {
   "cell_type": "code",
   "execution_count": 18,
   "metadata": {},
   "outputs": [
    {
     "data": {
      "text/plain": [
       "Int64Index([11, 67, 76, 142, 257, 270, 333, 449, 495, 603, 670, 720, 744, 1018,\n",
       "            1048],\n",
       "           dtype='int64')"
      ]
     },
     "execution_count": 18,
     "metadata": {},
     "output_type": "execute_result"
    }
   ],
   "source": [
    "anom_idx = (avg_codisp > avg_codisp.quantile(0.99))\n",
    "anom_idx = anom_idx[anom_idx].index\n",
    "anom_idx"
   ]
  },
  {
   "cell_type": "code",
   "execution_count": 19,
   "metadata": {},
   "outputs": [
    {
     "data": {
      "text/plain": [
       "array([[0.        , 0.33333333, 1.        ],\n",
       "       [0.10526316, 0.88888889, 0.61111111],\n",
       "       [0.26315789, 1.        , 0.38888889],\n",
       "       [0.05263158, 0.33333333, 0.94444444],\n",
       "       [0.05263158, 0.33333333, 0.94444444],\n",
       "       [0.84210526, 0.33333333, 0.11111111],\n",
       "       [0.10526316, 0.33333333, 0.88888889],\n",
       "       [0.89473684, 0.11111111, 0.16666667],\n",
       "       [0.10526316, 1.        , 0.55555556],\n",
       "       [1.        , 0.22222222, 0.        ],\n",
       "       [0.15789474, 1.        , 0.5       ],\n",
       "       [0.31578947, 0.11111111, 0.77777778],\n",
       "       [0.10526316, 0.33333333, 0.88888889],\n",
       "       [0.84210526, 0.22222222, 0.16666667],\n",
       "       [0.21052632, 0.11111111, 0.88888889]])"
      ]
     },
     "execution_count": 19,
     "metadata": {},
     "output_type": "execute_result"
    }
   ],
   "source": [
    "X[avg_codisp > avg_codisp.quantile(0.99)]"
   ]
  },
  {
   "cell_type": "code",
   "execution_count": 20,
   "metadata": {},
   "outputs": [
    {
     "data": {
      "image/png": "[encoded data removed]",
      "text/plain": [
       "<Figure size 432x288 with 1 Axes>"
      ]
     },
     "metadata": {
      "needs_background": "light"
     },
     "output_type": "display_data"
    }
   ],
   "source": [
    "cm = plt.get_cmap('gist_rainbow')\n",
    "fig = plt.figure()\n",
    "ax = fig.add_subplot(111)\n",
    "ax.set_prop_cycle('color', [cm(1.*i/len(df.columns)) for i in range(len(df.columns))])\n",
    "\n",
    "for col_name in df.columns:\n",
    "    ax.plot(df[col_name])\n",
    "    \n",
    "for xc in df.index[anom_idx]:\n",
    "    plt.axvline(x=xc, color='k', linestyle='--')\n",
    "    \n",
    "plt.legend(df.columns, ncol=int(math.ceil(len(df.columns)/10)),  bbox_to_anchor=(1, 1))\n",
    "\n",
    "plt.show()"
   ]
  },
  {
   "cell_type": "code",
   "execution_count": 21,
   "metadata": {},
   "outputs": [
    {
     "data": {
      "image/png": "[encoded data removed]",
      "text/plain": [
       "<Figure size 432x288 with 1 Axes>"
      ]
     },
     "metadata": {
      "needs_background": "light"
     },
     "output_type": "display_data"
    }
   ],
   "source": [
    "plt.plot(avg_codisp)\n",
    "plt.axhline(avg_codisp.quantile(0.99), color='k', linestyle='--')\n",
    "plt.show()"
   ]
  },
  {
   "cell_type": "markdown",
   "metadata": {},
   "source": [
    "## RRCF Stream"
   ]
  },
  {
   "cell_type": "code",
   "execution_count": 22,
   "metadata": {},
   "outputs": [],
   "source": [
    "# Set tree parameters\n",
    "num_trees = 100\n",
    "n_shingle = 8 # lenght of the shingle, using 8 hour as one point\n",
    "shingle_size = n_shingle # * n_vars\n",
    "tree_size = 24 * 5 # number of points in the tree for fifo, hour in a day * days\n",
    "\n",
    "# Create a forest of empty trees\n",
    "forest = []\n",
    "for _ in range(num_trees):\n",
    "    tree = rrcf.RCTree()\n",
    "    forest.append(tree)"
   ]
  },
  {
   "cell_type": "code",
   "execution_count": 23,
   "metadata": {},
   "outputs": [],
   "source": [
    "# Use the \"shingle\" generator to create rolling window\n",
    "points = rrcf.shingle(X, size=n_shingle)"
   ]
  },
  {
   "cell_type": "code",
   "execution_count": 24,
   "metadata": {},
   "outputs": [],
   "source": [
    "# transpose\n",
    "def shingle_transpose(shingle):\n",
    "    for val in shingle:\n",
    "        yield val.T.flatten()\n",
    "\n",
    "points = shingle_transpose(points)"
   ]
  },
  {
   "cell_type": "code",
   "execution_count": 25,
   "metadata": {},
   "outputs": [],
   "source": [
    "# Create a dict to store anomaly score of each point\n",
    "avg_codisp = pd.Series(0.0, index=np.arange(n_points + 1 - shingle_size))\n",
    "\n",
    "# For each shingle...\n",
    "for index, point in enumerate(points):\n",
    "    # For each tree in the forest...\n",
    "    for tree in forest:\n",
    "        # If tree is above permitted size...\n",
    "        if len(tree.leaves) > tree_size:\n",
    "            # Drop the oldest point (FIFO)\n",
    "            tree.forget_point(index - tree_size)\n",
    "        # Insert the new point into the tree\n",
    "        tree.insert_point(point, index=index)\n",
    "        # Compute codisp on the new point...\n",
    "        new_codisp = tree.codisp(index)\n",
    "        # And take the average over all trees\n",
    "        avg_codisp[index] += new_codisp / num_trees"
   ]
  },
  {
   "cell_type": "code",
   "execution_count": 26,
   "metadata": {},
   "outputs": [
    {
     "data": {
      "text/plain": [
       "Int64Index([102, 125, 131, 137, 172, 270, 288, 294, 295, 449, 476, 494, 601,\n",
       "            603, 663],\n",
       "           dtype='int64')"
      ]
     },
     "execution_count": 26,
     "metadata": {},
     "output_type": "execute_result"
    }
   ],
   "source": [
    "anom_idx = (avg_codisp > avg_codisp.quantile(0.99))\n",
    "anom_idx = anom_idx[anom_idx].index\n",
    "anom_idx"
   ]
  },
  {
   "cell_type": "code",
   "execution_count": 27,
   "metadata": {},
   "outputs": [
    {
     "data": {
      "text/plain": [
       "[[102, 109],\n",
       " [125, 144],\n",
       " [172, 179],\n",
       " [270, 277],\n",
       " [288, 302],\n",
       " [449, 456],\n",
       " [476, 483],\n",
       " [494, 501],\n",
       " [601, 610],\n",
       " [663, 670]]"
      ]
     },
     "execution_count": 27,
     "metadata": {},
     "output_type": "execute_result"
    }
   ],
   "source": [
    "# create anom region\n",
    "def shingle_index_to_range(index, shingle_size):\n",
    "    return index, [i + shingle_size for i in index] # left_index, rigth_index\n",
    "\n",
    "def range_to_time_index(left_index, right_index):\n",
    "#     '''In reading time_index, please ignore the rightmost value of each batch.'''\n",
    "    time_index = []\n",
    "    for left, right in zip(left_index, right_index):\n",
    "        for val in range(left, right):\n",
    "            if val not in time_index:\n",
    "                time_index.append(val)\n",
    "    return time_index\n",
    "\n",
    "def merge_region(time_index):\n",
    "    pointer = 0\n",
    "    left_i = time_index[pointer]\n",
    "    merged_region = []\n",
    "    while pointer <= len(time_index):\n",
    "        counter = 0\n",
    "        for right_i in time_index[pointer::]:\n",
    "            if right_i > left_i + counter:\n",
    "                pointer -= 1\n",
    "                break\n",
    "            pointer += 1\n",
    "            counter += 1\n",
    "        if pointer >= len(time_index):\n",
    "            pointer -= 1\n",
    "            merged_region.append([left_i, time_index[pointer]])\n",
    "            break\n",
    "        merged_region.append([left_i, time_index[pointer]])\n",
    "        left_i = time_index[pointer + 1]\n",
    "    return merged_region\n",
    "\n",
    "def get_anomaly_region(index, shingle_size):\n",
    "    left, right = shingle_index_to_range(index, shingle_size)\n",
    "    time_index = range_to_time_index(left, right)\n",
    "    return merge_region(time_index)\n",
    "\n",
    "anom_regions = get_anomaly_region(anom_idx, shingle_size)\n",
    "anom_regions"
   ]
  },
  {
   "cell_type": "code",
   "execution_count": 32,
   "metadata": {},
   "outputs": [
    {
     "data": {
      "text/plain": [
       "[[109, 116],\n",
       " [132, 151],\n",
       " [179, 186],\n",
       " [277, 284],\n",
       " [295, 309],\n",
       " [456, 463],\n",
       " [483, 490],\n",
       " [501, 508],\n",
       " [608, 617],\n",
       " [670, 677]]"
      ]
     },
     "execution_count": 32,
     "metadata": {},
     "output_type": "execute_result"
    }
   ],
   "source": [
    "import copy\n",
    "def correct_index(anom_regions, shingle_size):\n",
    "    anom_regions_copy = copy.deepcopy(anom_regions)\n",
    "    for idx, val in enumerate(anom_regions_copy):\n",
    "        if isinstance(val, list):\n",
    "            val = correct_index(val, shingle_size)\n",
    "        else:\n",
    "            val += shingle_size - 1 # shift = shingle_size - 1\n",
    "        anom_regions_copy[idx] =  val\n",
    "    return anom_regions_copy\n",
    "anom_regions_shifted = correct_index(anom_regions, shingle_size)\n",
    "anom_regions_shifted"
   ]
  },
  {
   "cell_type": "code",
   "execution_count": 43,
   "metadata": {},
   "outputs": [
    {
     "data": {
      "image/png": "[encoded data removed]",
      "text/plain": [
       "<Figure size 432x288 with 1 Axes>"
      ]
     },
     "metadata": {
      "needs_background": "light"
     },
     "output_type": "display_data"
    }
   ],
   "source": [
    "cm = plt.get_cmap('gist_rainbow')\n",
    "fig = plt.figure()\n",
    "ax = fig.add_subplot(111)\n",
    "ax.set_prop_cycle('color', [cm(1.*i/len(df.columns)) for i in range(len(df.columns))])\n",
    "\n",
    "plt.plot(X)\n",
    "\n",
    "VERTICAL_DASH = 'black' # choose 'rainbow' or 'black', rainbow is better to marking different regions\n",
    "if VERTICAL_DASH == 'rainbow':\n",
    "    colors = [cm(1.*i/len(anom_regions_shifted)) for i in range(len(anom_regions_shifted))]\n",
    "    for idx, anom_region in enumerate(anom_regions_shifted):\n",
    "        plt.axvline(x=anom_region[0], color=colors[idx], linestyle='--')\n",
    "        plt.axvline(x=anom_region[1], color=colors[idx], linestyle='--')\n",
    "\n",
    "elif VERTICAL_DASH == 'black':\n",
    "    for idx, anom_region in enumerate(anom_regions_shifted):\n",
    "        plt.axvline(x=anom_region[0], color='k', linestyle='--')\n",
    "        plt.axvline(x=anom_region[1], color='k', linestyle='--')\n",
    "    \n",
    "plt.legend(df.columns, ncol=int(math.ceil(len(df.columns)/10)),  bbox_to_anchor=(1, 1))\n",
    "\n",
    "plt.show()"
   ]
  },
  {
   "cell_type": "code",
   "execution_count": 44,
   "metadata": {},
   "outputs": [
    {
     "data": {
      "image/png": "[encoded data removed]",
      "text/plain": [
       "<Figure size 432x288 with 1 Axes>"
      ]
     },
     "metadata": {
      "needs_background": "light"
     },
     "output_type": "display_data"
    }
   ],
   "source": [
    "if VERTICAL_DASH == 'rainbow':\n",
    "    for idx, anom_region in enumerate(anom_regions_shifted):\n",
    "        plt.axvline(x=anom_region[0], color=colors[idx], linestyle='--')\n",
    "        plt.axvline(x=anom_region[1], color=colors[idx], linestyle='--')\n",
    "elif VERTICAL_DASH == 'black':\n",
    "    for idx, anom_region in enumerate(anom_regions_shifted): # comment to remove black line mark\n",
    "        plt.axvline(x=anom_region[0], color='k', linestyle='--')\n",
    "        plt.axvline(x=anom_region[1], color='k', linestyle='--')\n",
    "        \n",
    "plt.plot(avg_codisp)\n",
    "plt.axhline(avg_codisp.quantile(0.99), color='k', linestyle='--')\n",
    "plt.show()"
   ]
  },
  {
   "cell_type": "markdown",
   "metadata": {},
   "source": [
    "## save model"
   ]
  },
  {
   "cell_type": "code",
   "execution_count": 30,
   "metadata": {},
   "outputs": [],
   "source": [
    "# import dill as pickle\n",
    "# import json\n",
    "# import os\n",
    "# import os.path as osp\n",
    "# folder_result = 'rrcf_power/data/result/'\n",
    "# file_label = ''\n",
    "# if not osp.exists(folder_result):\n",
    "#     os.makedirs(folder_result)\n",
    "# params = {\n",
    "#     'num_trees': num_trees,\n",
    "#     'shingle_size': shingle_size, # five minutes\n",
    "#     'tree_size': tree_size, # number of points in the tree for fifo, minutes in a day\n",
    "#     'data_source_path': data_source_path\n",
    "# }\n",
    "# pickle.dump(forest, open(osp.join(folder_result,'forest'+file_label+'.pickle'), 'wb'))\n",
    "# pickle.dump(avg_codisp, open(osp.join(folder_result,'avg_codispt'+file_label+'.pickle'), 'wb'))\n",
    "# json.dump(params, open(osp.join(folder_result,'params'+file_label+'.json'), 'w'))"
   ]
  },
  {
   "cell_type": "code",
   "execution_count": null,
   "metadata": {},
   "outputs": [],
   "source": []
  }
 ],
 "metadata": {
  "kernelspec": {
   "display_name": "Python 3",
   "language": "python",
   "name": "python3"
  },
  "language_info": {
   "codemirror_mode": {
    "name": "ipython",
    "version": 3
   },
   "file_extension": ".py",
   "mimetype": "text/x-python",
   "name": "python",
   "nbconvert_exporter": "python",
   "pygments_lexer": "ipython3",
   "version": "3.7.4"
  }
 },
 "nbformat": 4,
 "nbformat_minor": 4
}
